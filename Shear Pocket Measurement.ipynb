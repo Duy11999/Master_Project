{
 "cells": [
  {
   "cell_type": "markdown",
   "id": "21b1617f",
   "metadata": {},
   "source": [
    "# <font size=\"15\">Shear Pocket Measurement</font>"
   ]
  },
  {
   "cell_type": "markdown",
   "id": "92e7cebe",
   "metadata": {},
   "source": [
    "<font size=\"5\">Step 1: Merging</font>"
   ]
  },
  {
   "cell_type": "code",
   "execution_count": 11,
   "id": "98e0e9bf-94ac-4177-8491-a570ff073f72",
   "metadata": {
    "tags": []
   },
   "outputs": [],
   "source": [
    "import cv2\n",
    "import numpy as np\n",
    "\n",
    "def Merging(image1,image2):\n",
    "    # Ensure both images have the same size\n",
    "    if image1.shape != image2.shape:\n",
    "        raise ValueError(\"The dimensions of the images do not match!\")\n",
    "\n",
    "    # Perform a bitwise OR operation to combine the images\n",
    "    combined_image = cv2.bitwise_or(image1, image2)\n",
    "    # Save the combined image\n",
    "    cv2.imwrite('../Images/combined_image22.png', combined_image)\n",
    "\n",
    "    # Display the images (optional)\n",
    "\n",
    "    cv2.namedWindow('Combined Image', cv2.WINDOW_NORMAL)\n",
    "    cv2.imshow('Combined Image', combined_image)\n",
    "    cv2.waitKey(0)\n",
    "    cv2.destroyAllWindows()"
   ]
  },
  {
   "cell_type": "markdown",
   "id": "f8b9299e",
   "metadata": {},
   "source": [
    "<font size=\"4\">Input result from Yolov9</font>"
   ]
  },
  {
   "cell_type": "code",
   "execution_count": 12,
   "id": "2d1ff8b8-a2de-481a-9a53-7e5edab53919",
   "metadata": {
    "tags": []
   },
   "outputs": [],
   "source": [
    "image = cv2.imread('/home/d8/yolov9/runs/predict-seg/exp101/masks/22_combined.png', cv2.IMREAD_GRAYSCALE)"
   ]
  },
  {
   "cell_type": "markdown",
   "id": "0fdecf37",
   "metadata": {},
   "source": [
    "<font size=\"4\">Input result from SAM</font>"
   ]
  },
  {
   "cell_type": "code",
   "execution_count": 13,
   "id": "82fead81",
   "metadata": {},
   "outputs": [],
   "source": [
    "image1 = cv2.imread('../Images/P1h.jpg', cv2.IMREAD_GRAYSCALE)"
   ]
  },
  {
   "cell_type": "code",
   "execution_count": 14,
   "id": "0d184876-4906-483d-a508-d873bb349673",
   "metadata": {
    "tags": []
   },
   "outputs": [],
   "source": [
    "Merging(image,image1)"
   ]
  },
  {
   "cell_type": "markdown",
   "id": "537619d8-1dfb-4cba-976c-7f3d0e36a33d",
   "metadata": {},
   "source": [
    "<font size=\"5\">Step2: Rotating and Measuring</font>"
   ]
  },
  {
   "cell_type": "code",
   "execution_count": 15,
   "id": "7ac16dd7-3c82-405b-99a6-e98239677171",
   "metadata": {
    "tags": []
   },
   "outputs": [],
   "source": [
    "import cv2\n",
    "import numpy as np\n",
    "import random\n",
    "from collections import defaultdict\n",
    "\n",
    "def process_specific_contour(image, image1, contour_index):\n",
    "    # Calculate new dimensions for rotated image\n",
    "    def calculate_new_dimensions(w, h, angle):\n",
    "        cos = np.abs(np.cos(np.radians(angle)))\n",
    "        sin = np.abs(np.sin(np.radians(angle)))\n",
    "        nW = int((h * sin) + (w * cos))\n",
    "        nH = int((h * cos) + (w * sin))\n",
    "        return nW, nH\n",
    "\n",
    "    # Rotate image by a given angle\n",
    "    def rotate_image(image, angle, nW, nH):\n",
    "        (h, w) = image.shape[:2]\n",
    "        (cX, cY) = (w // 2, h // 2)\n",
    "        M = cv2.getRotationMatrix2D((cX, cY), angle, 1.0)\n",
    "        M[0, 2] += (nW / 2) - cX\n",
    "        M[1, 2] += (nH / 2) - cY\n",
    "        return cv2.warpAffine(image, M, (nW, nH))\n",
    "\n",
    "    # Convert the image to HSV color space\n",
    "    hsv = cv2.cvtColor(image, cv2.COLOR_BGR2HSV)\n",
    "\n",
    "    # Define the lower and upper bounds for the color range you want to segment\n",
    "    l_b = np.array([0, 0, 138])  # Lower bound\n",
    "    u_b = np.array([255, 255, 255])  # Upper bound\n",
    "\n",
    "    # Create a mask using the defined lower and upper bounds\n",
    "    mask = cv2.inRange(hsv, l_b, u_b)\n",
    "    # Find contours in the mask\n",
    "    contours, _ = cv2.findContours(mask, cv2.RETR_EXTERNAL, cv2.CHAIN_APPROX_SIMPLE)\n",
    "    contours = sorted(contours, key=cv2.contourArea, reverse=True)[:3]\n",
    "\n",
    "    rect1 = cv2.minAreaRect(contours[contour_index])\n",
    "    angle = rect1[-1]\n",
    "    nW1, nH1 = calculate_new_dimensions(image.shape[1], image.shape[0], angle)\n",
    "    nW2, nH2 = calculate_new_dimensions(image1.shape[1], image1.shape[0], angle)\n",
    "\n",
    "    img = rotate_image(image, angle, nW1, nH1)\n",
    "    img1 = rotate_image(image1, angle, nW2, nH2)\n",
    "\n",
    "    hsv = cv2.cvtColor(img, cv2.COLOR_BGR2HSV)\n",
    "    mask = cv2.inRange(hsv, l_b, u_b)\n",
    "    contours, _ = cv2.findContours(mask, cv2.RETR_EXTERNAL, cv2.CHAIN_APPROX_SIMPLE)\n",
    "    contours = sorted(contours, key=cv2.contourArea, reverse=True)[:3]\n",
    "    \n",
    "\n",
    "    if contours and contour_index < len(contours):\n",
    "        contour = contours[contour_index]\n",
    "\n",
    "        # Get adjacent white pixels\n",
    "        def get_adjacent_white_pixels(object_mask):\n",
    "            adjacent_white_pixels = []\n",
    "            for y in range(1, object_mask.shape[0] - 1):\n",
    "                for x in range(1, object_mask.shape[1] - 1):\n",
    "                    if object_mask[y, x] == 255:\n",
    "                        if (object_mask[y - 1, x] == 0 or object_mask[y + 1, x] == 0 or\n",
    "                                object_mask[y, x - 1] == 0 or object_mask[y, x + 1] == 0):\n",
    "                            adjacent_white_pixels.append((x, y))\n",
    "            return adjacent_white_pixels\n",
    "\n",
    "        # Draw lines between randomly selected points in the groups\n",
    "        def draw_lines_between_groups(img, group1, group2, same_coordinate='x', color=(0, 255, 255)):\n",
    "            if group1 and group2:\n",
    "                point1 = random.choice(group1)\n",
    "                point2 = random.choice(group2)\n",
    "                if same_coordinate == 'x':\n",
    "                    point2 = (point1[0], point2[1])\n",
    "                else:\n",
    "                    point2 = (point2[0], point1[1])\n",
    "                cv2.line(img, point1, point2, color, 2)\n",
    "                length = np.sqrt((point1[0] - point2[0]) ** 2 + (point1[1] - point2[1]) ** 2)\n",
    "                return point1, point2, length\n",
    "            return None, None, None\n",
    "\n",
    "        object_mask = np.zeros_like(mask)\n",
    "        cv2.drawContours(object_mask, [contour], -1, 255, thickness=cv2.FILLED)\n",
    "\n",
    "        adjacent_white_pixels = get_adjacent_white_pixels(object_mask)\n",
    "\n",
    "        adjacent_white_pixels_sorted = sorted(adjacent_white_pixels, key=lambda pixel: pixel[1], reverse=True)\n",
    "        adjacent_white_pixels_sorted_smallest = sorted(adjacent_white_pixels, key=lambda pixel: pixel[1])\n",
    "\n",
    "        adjacent_white_pixels_sorted_x = sorted(adjacent_white_pixels, key=lambda pixel: pixel[0])\n",
    "        adjacent_white_pixels_sorted_x_smallest = sorted(adjacent_white_pixels, key=lambda pixel: pixel[0], reverse=True)\n",
    "\n",
    "        selected_pixels = adjacent_white_pixels_sorted[:300]\n",
    "        selected_pixels1 = adjacent_white_pixels_sorted_smallest[:300]\n",
    "        selected_pixels2 = adjacent_white_pixels_sorted_x[:150]\n",
    "        selected_pixels3 = adjacent_white_pixels_sorted_x_smallest[:150]\n",
    "\n",
    "        y_counts = defaultdict(list)\n",
    "        for (x, y) in selected_pixels:\n",
    "            y_counts[y].append((x, y))\n",
    "\n",
    "        y_counts1 = defaultdict(list)\n",
    "        for (x, y) in selected_pixels1:\n",
    "            y_counts1[y].append((x, y))\n",
    "\n",
    "        x_counts = defaultdict(list)\n",
    "        for (x, y) in selected_pixels2:\n",
    "            x_counts[x].append((x, y))\n",
    "\n",
    "        x_counts1 = defaultdict(list)\n",
    "        for (x, y) in selected_pixels3:\n",
    "            x_counts1[x].append((x, y))\n",
    "\n",
    "        most_common_y = max(y_counts, key=lambda y: len(y_counts[y]))\n",
    "        most_common_group = y_counts[most_common_y]\n",
    "\n",
    "        most_common_y1 = max(y_counts1, key=lambda y: len(y_counts1[y]))\n",
    "        most_common_group1 = y_counts1[most_common_y1]\n",
    "\n",
    "        most_common_x = max(list(x_counts.keys()), key=lambda x: len(x_counts[x]))\n",
    "        most_common_group2 = x_counts[most_common_x]\n",
    "\n",
    "        most_common_x1 = max(list(x_counts1.keys()), key=lambda x: len(x_counts1[x]))\n",
    "        most_common_group3 = x_counts1[most_common_x1]\n",
    "\n",
    "        point1, point2, length = draw_lines_between_groups(img, most_common_group, most_common_group1, same_coordinate='x', color=(0, 0, 255))\n",
    "        if point1 and point2:\n",
    "            print(f\"Length of the line from {point1} to {point2}: {length:.2f} pixels\")\n",
    "\n",
    "        point1, point2, length = draw_lines_between_groups(img, most_common_group2, most_common_group3, same_coordinate='y', color=(0, 255, 0))\n",
    "        if point1 and point2:\n",
    "            print(f\"Length of the line from {point1} to {point2}: {length:.2f} pixels\")\n",
    "\n",
    "        draw_lines_between_groups(img1, most_common_group, most_common_group1, same_coordinate='x', color=(0, 0, 255))\n",
    "        draw_lines_between_groups(img1, most_common_group2, most_common_group3, same_coordinate='y', color=(0, 255, 0))\n",
    "\n",
    "        for (x, y) in selected_pixels:\n",
    "            img[y, x] = [255, 0, 255]\n",
    "\n",
    "        for (x, y) in selected_pixels1:\n",
    "            img[y, x] = [255, 0, 255]\n",
    "\n",
    "    cv2.namedWindow(\"Marked Image\", cv2.WINDOW_NORMAL)\n",
    "    cv2.imshow(\"Marked Image\", img)\n",
    "    cv2.namedWindow(\"Marked Image1\", cv2.WINDOW_NORMAL)\n",
    "    cv2.imshow(\"Marked Image1\", img1)\n",
    "    cv2.waitKey(0)\n",
    "    cv2.destroyAllWindows()"
   ]
  },
  {
   "cell_type": "code",
   "execution_count": 16,
   "id": "e6792010-fc3f-4114-8f5c-fa96aa9ee72f",
   "metadata": {},
   "outputs": [],
   "source": [
    "image = cv2.imread(\"../Images/combined_image22.png\")\n",
    "image1 = cv2.imread(\"../Images/22.jpg\")"
   ]
  },
  {
   "cell_type": "code",
   "execution_count": 17,
   "id": "aca5f8ed-29a2-4ffe-8d0f-9f3b3ac131ea",
   "metadata": {
    "tags": []
   },
   "outputs": [
    {
     "name": "stdout",
     "output_type": "stream",
     "text": [
      "Length of the line from (756, 1045) to (756, 730): 315.00 pixels\n",
      "Length of the line from (580, 833) to (762, 833): 182.00 pixels\n"
     ]
    }
   ],
   "source": [
    "process_specific_contour(image, image1, contour_index=0)"
   ]
  },
  {
   "cell_type": "code",
   "execution_count": 18,
   "id": "1b717ad0-e6a8-4415-836a-ff2839c49d6a",
   "metadata": {
    "tags": []
   },
   "outputs": [
    {
     "name": "stdout",
     "output_type": "stream",
     "text": [
      "Length of the line from (1290, 1006) to (1290, 690): 316.00 pixels\n",
      "Length of the line from (1199, 820) to (1363, 820): 164.00 pixels\n"
     ]
    }
   ],
   "source": [
    "process_specific_contour(image, image1, contour_index=1)"
   ]
  },
  {
   "cell_type": "code",
   "execution_count": 19,
   "id": "c92a51ec-3f73-4c1f-b80f-ee7a5d65dddc",
   "metadata": {
    "tags": []
   },
   "outputs": [
    {
     "name": "stdout",
     "output_type": "stream",
     "text": [
      "Length of the line from (1843, 986) to (1843, 685): 301.00 pixels\n",
      "Length of the line from (1833, 966) to (2007, 966): 174.00 pixels\n"
     ]
    }
   ],
   "source": [
    "process_specific_contour(image, image1, contour_index=2)"
   ]
  },
  {
   "cell_type": "code",
   "execution_count": null,
   "id": "6917542d-c316-499b-b305-9d6e586b67ec",
   "metadata": {},
   "outputs": [],
   "source": []
  }
 ],
 "metadata": {
  "kernelspec": {
   "display_name": "Test1",
   "language": "python",
   "name": "test1"
  },
  "language_info": {
   "codemirror_mode": {
    "name": "ipython",
    "version": 3
   },
   "file_extension": ".py",
   "mimetype": "text/x-python",
   "name": "python",
   "nbconvert_exporter": "python",
   "pygments_lexer": "ipython3",
   "version": "3.11.5"
  }
 },
 "nbformat": 4,
 "nbformat_minor": 5
}
